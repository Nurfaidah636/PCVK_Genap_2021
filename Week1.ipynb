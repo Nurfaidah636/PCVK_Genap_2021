{
  "nbformat": 4,
  "nbformat_minor": 0,
  "metadata": {
    "colab": {
      "name": "Week1.ipynb",
      "provenance": [],
      "authorship_tag": "ABX9TyNsQ/nVCxSmyIpIH0wdM1JP",
      "include_colab_link": true
    },
    "kernelspec": {
      "name": "python3",
      "display_name": "Python 3"
    }
  },
  "cells": [
    {
      "cell_type": "markdown",
      "metadata": {
        "id": "view-in-github",
        "colab_type": "text"
      },
      "source": [
        "<a href=\"https://colab.research.google.com/github/Nurfaidah636/PCVK_Genap_2021/blob/main/Week1.ipynb\" target=\"_parent\"><img src=\"https://colab.research.google.com/assets/colab-badge.svg\" alt=\"Open In Colab\"/></a>"
      ]
    },
    {
      "cell_type": "code",
      "metadata": {
        "id": "8ZIvI2966C1L"
      },
      "source": [
        "import numpy as np\r\n",
        "import pandas as pd\r\n",
        "import cv2 as cv\r\n",
        "from google.colab.patches import cv2_imshow # for image display\r\n",
        "from skimage import io\r\n",
        "from skimage import transform \r\n",
        "from PIL import Image\r\n",
        "import matplotlib.pylab as plt\r\n",
        "# Membuat list untuk menyimpan url dari beberapa image\r\n",
        "urls = [\"https://iiif.lib.ncsu.edu/iiif/0052574/full/800,/0/default.jpg\",\r\n",
        "        \"https://iiif.lib.ncsu.edu/iiif/0016007/full/800,/0/default.jpg\",\r\n",
        "        \"https://placekitten.com/800/571\"]\r\n",
        "# baca dan tampilkan image\r\n",
        "# loop pada tiap url image, beberapa dapat disimpan pada list\r\n",
        "for url in urls:\r\n",
        "  image = io.imread(url)                          #read image\r\n",
        "  img = cv.resize(image, (0,0), fx=0.5, fy=0.5)   #resize image to half size\r\n",
        "  img_2 = cv. cvtColor(image, cv.COLOR_BGR2RGB)   #convert color to rgb\r\n",
        "  final_frame = cv.hconcat((image, image_2))      #concatenate image\r\n",
        "  cv2_imshow(final_frame)                         #show image\r\n",
        "  print('\\n')\r\n",
        "\r\n"
      ],
      "execution_count": 1,
      "outputs": []
    },
    {
      "cell_type": "code",
      "metadata": {
        "id": "_7wTClF9-qQD"
      },
      "source": [
        "\r\n"
      ],
      "execution_count": null,
      "outputs": []
    }
  ]
}
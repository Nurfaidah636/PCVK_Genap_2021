{
  "nbformat": 4,
  "nbformat_minor": 0,
  "metadata": {
    "colab": {
      "name": "Week1.ipynb",
      "provenance": [],
      "authorship_tag": "ABX9TyNiXHmjHeOJBwBmHrlLHqP3",
      "include_colab_link": true
    },
    "kernelspec": {
      "name": "python3",
      "display_name": "Python 3"
    }
  },
  "cells": [
    {
      "cell_type": "markdown",
      "metadata": {
        "id": "view-in-github",
        "colab_type": "text"
      },
      "source": [
        "<a href=\"https://colab.research.google.com/github/Nurfaidah636/PCVK_Genap_2021/blob/main/Week1.ipynb\" target=\"_parent\"><img src=\"https://colab.research.google.com/assets/colab-badge.svg\" alt=\"Open In Colab\"/></a>"
      ]
    },
    {
      "cell_type": "code",
      "metadata": {
        "id": "8ZIvI2966C1L",
        "colab": {
          "base_uri": "https://localhost:8080/",
          "height": 231
        },
        "outputId": "01e1fc37-a9b7-4258-8505-be5a382a9464"
      },
      "source": [
        "import numpy as np\r\n",
        "import pandas as np\r\n",
        "import cv2 as cv\r\n",
        "from google.colab.patches import cv2_imshow # for image display\r\n",
        "from skimage import io\r\n",
        "from skimage import transform\r\n",
        "from PIL import Image\r\n",
        "import matplotlib.pylab as plt\r\n",
        "# Membuat list untuk menyimpan url dari beberapa image\r\n",
        "urls = [\"https://iiif.lib.ncsu.edu/iiif/0052574/full/800,/0/default.jpg\",\r\n",
        "        \"https://iiif.lib.ncsu.edu/iiif/0016007/full/800,/0/default.jpg\",\r\n",
        "        \"https://placekitten.com/800/571\"]\r\n",
        "# baca dan tampilkan image\r\n",
        "# loop pada tiap url image, beberapa dapat disimpan pada list\r\n",
        "for url in urls:\r\n",
        "  image = io.imread(url)                          #read image\r\n",
        "  img = cv.resize(image, (0,0), fx=0.5, fy=0.5)   #resize image to half size\r\n",
        "  img_2 = cv. cvtColor(image, cv.COLOR_BGR2RGB)   #convert color to rgb\r\n",
        "  final_frame = cv.hconcat((image, image_2))      #concatenate image\r\n",
        "  cv2_imshow(final_frame)                         #show image\r\n",
        "  print('\\n')\r\n",
        "\r\n",
        "  [51] tinggi = image_2.shape[0]\r\n",
        "       lebar = image_2.shape[1]\r\n",
        "       print(\"resolusi image : tinggi x lebar = \",tinggi, \" x \", lebar)\r\n",
        "       cv2_imshow(image_2)\r\n",
        "      \r\n",
        "      image_2 = cv.cvtColor(image, cv.COLOR_BGR2RGB)\r\n",
        "      image_3 = cv.cvtColor(image, cv.COLOR_BGR2RGB)\r\n",
        "      #membuat garis horizontal di tengah image\r\n",
        "      for y in range (lebar):\r\n",
        "        image_3[int((tinggi)/2),y] = [255,255,255]\r\n",
        "\r\n",
        "      final_frame = cv.hconcat((image_2, image_3))\r\n",
        "      cv2_imshow(final_frame)"
      ],
      "execution_count": 6,
      "outputs": [
        {
          "output_type": "error",
          "ename": "NameError",
          "evalue": "ignored",
          "traceback": [
            "\u001b[0;31m---------------------------------------------------------------------------\u001b[0m",
            "\u001b[0;31mNameError\u001b[0m                                 Traceback (most recent call last)",
            "\u001b[0;32m<ipython-input-6-21f168fe3c03>\u001b[0m in \u001b[0;36m<module>\u001b[0;34m()\u001b[0m\n\u001b[1;32m     17\u001b[0m   \u001b[0mimg\u001b[0m \u001b[0;34m=\u001b[0m \u001b[0mcv\u001b[0m\u001b[0;34m.\u001b[0m\u001b[0mresize\u001b[0m\u001b[0;34m(\u001b[0m\u001b[0mimage\u001b[0m\u001b[0;34m,\u001b[0m \u001b[0;34m(\u001b[0m\u001b[0;36m0\u001b[0m\u001b[0;34m,\u001b[0m\u001b[0;36m0\u001b[0m\u001b[0;34m)\u001b[0m\u001b[0;34m,\u001b[0m \u001b[0mfx\u001b[0m\u001b[0;34m=\u001b[0m\u001b[0;36m0.5\u001b[0m\u001b[0;34m,\u001b[0m \u001b[0mfy\u001b[0m\u001b[0;34m=\u001b[0m\u001b[0;36m0.5\u001b[0m\u001b[0;34m)\u001b[0m   \u001b[0;31m#resize image to half size\u001b[0m\u001b[0;34m\u001b[0m\u001b[0;34m\u001b[0m\u001b[0m\n\u001b[1;32m     18\u001b[0m   \u001b[0mimg_2\u001b[0m \u001b[0;34m=\u001b[0m \u001b[0mcv\u001b[0m\u001b[0;34m.\u001b[0m \u001b[0mcvtColor\u001b[0m\u001b[0;34m(\u001b[0m\u001b[0mimage\u001b[0m\u001b[0;34m,\u001b[0m \u001b[0mcv\u001b[0m\u001b[0;34m.\u001b[0m\u001b[0mCOLOR_BGR2RGB\u001b[0m\u001b[0;34m)\u001b[0m   \u001b[0;31m#convert color to rgb\u001b[0m\u001b[0;34m\u001b[0m\u001b[0;34m\u001b[0m\u001b[0m\n\u001b[0;32m---> 19\u001b[0;31m   \u001b[0mfinal_frame\u001b[0m \u001b[0;34m=\u001b[0m \u001b[0mcv\u001b[0m\u001b[0;34m.\u001b[0m\u001b[0mhconcat\u001b[0m\u001b[0;34m(\u001b[0m\u001b[0;34m(\u001b[0m\u001b[0mimage\u001b[0m\u001b[0;34m,\u001b[0m \u001b[0mimage_2\u001b[0m\u001b[0;34m)\u001b[0m\u001b[0;34m)\u001b[0m      \u001b[0;31m#concatenate image\u001b[0m\u001b[0;34m\u001b[0m\u001b[0;34m\u001b[0m\u001b[0m\n\u001b[0m\u001b[1;32m     20\u001b[0m   \u001b[0mcv2_imshow\u001b[0m\u001b[0;34m(\u001b[0m\u001b[0mfinal_frame\u001b[0m\u001b[0;34m)\u001b[0m                         \u001b[0;31m#show image\u001b[0m\u001b[0;34m\u001b[0m\u001b[0;34m\u001b[0m\u001b[0m\n\u001b[1;32m     21\u001b[0m   \u001b[0mprint\u001b[0m\u001b[0;34m(\u001b[0m\u001b[0;34m'\\n'\u001b[0m\u001b[0;34m)\u001b[0m\u001b[0;34m\u001b[0m\u001b[0;34m\u001b[0m\u001b[0m\n",
            "\u001b[0;31mNameError\u001b[0m: name 'image_2' is not defined"
          ]
        }
      ]
    },
    {
      "cell_type": "code",
      "metadata": {
        "id": "_7wTClF9-qQD"
      },
      "source": [
        "\r\n"
      ],
      "execution_count": null,
      "outputs": []
    }
  ]
}
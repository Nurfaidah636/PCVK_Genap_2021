{
  "nbformat": 4,
  "nbformat_minor": 0,
  "metadata": {
    "colab": {
      "name": "Week1.ipynb",
      "provenance": [],
      "authorship_tag": "ABX9TyO6HKaqNTnTwF//pQ7v96qF",
      "include_colab_link": true
    },
    "kernelspec": {
      "name": "python3",
      "display_name": "Python 3"
    }
  },
  "cells": [
    {
      "cell_type": "markdown",
      "metadata": {
        "id": "view-in-github",
        "colab_type": "text"
      },
      "source": [
        "<a href=\"https://colab.research.google.com/github/Nurfaidah636/PCVK_Genap_2021/blob/main/Week1.ipynb\" target=\"_parent\"><img src=\"https://colab.research.google.com/assets/colab-badge.svg\" alt=\"Open In Colab\"/></a>"
      ]
    },
    {
      "cell_type": "code",
      "metadata": {
        "id": "8ZIvI2966C1L"
      },
      "source": [
        "import numpy as np\r\n",
        "import pandas as pd\r\n",
        "import cv2 as cv\r\n",
        "from google.colab.patches import cv2_imshow # for image display\r\n",
        "from skimage import io\r\n",
        "from skimage import transform \r\n",
        "from PIL import Image\r\n",
        "import matplotlib.pylab as plt"
      ],
      "execution_count": 1,
      "outputs": []
    }
  ]
}
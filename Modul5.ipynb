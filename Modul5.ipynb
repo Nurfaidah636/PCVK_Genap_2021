{
  "nbformat": 4,
  "nbformat_minor": 0,
  "metadata": {
    "colab": {
      "name": "Modul5.ipynb",
      "provenance": [],
      "collapsed_sections": [],
      "mount_file_id": "https://gist.github.com/Nurfaidah636/3f72650706dc51f3c2eb69670eba4b11#file-modul5-ipynb",
      "authorship_tag": "ABX9TyO3X4hw5S2eTSRJvT5sN//Y",
      "include_colab_link": true
    },
    "kernelspec": {
      "name": "python3",
      "display_name": "Python 3"
    }
  },
  "cells": [
    {
      "cell_type": "markdown",
      "metadata": {
        "id": "view-in-github",
        "colab_type": "text"
      },
      "source": [
        "<a href=\"https://colab.research.google.com/github/Nurfaidah636/PCVK_Genap_2021/blob/main/Modul5.ipynb\" target=\"_parent\"><img src=\"https://colab.research.google.com/assets/colab-badge.svg\" alt=\"Open In Colab\"/></a>"
      ]
    },
    {
      "cell_type": "code",
      "metadata": {
        "id": "31bSwvHA7QTU",
        "colab": {
          "base_uri": "https://localhost:8080/",
          "height": 129
        },
        "outputId": "74b9b383-8cd4-44ef-e936-d330edc22b5c"
      },
      "source": [
        "print('Gamma Correction pada citra')\r\n",
        "print('----------------------------------')\r\n",
        "try:\r\n",
        "  gamma = int(input('Masukkan nilai Gamma: '))\r\n",
        "except ValueError:\r\n",
        "  print('Error, not a number')\r\n",
        "cv img = []\r\n",
        "for img in glob.glob('/content/drive/MyDrive/Polinema/Images/noises/1.jpg'):\r\n",
        "  n= cv.imread(img)\r\n",
        "  cv img.append(n)"
      ],
      "execution_count": 5,
      "outputs": [
        {
          "output_type": "error",
          "ename": "SyntaxError",
          "evalue": "ignored",
          "traceback": [
            "\u001b[0;36m  File \u001b[0;32m\"<ipython-input-5-9e91ece2b96b>\"\u001b[0;36m, line \u001b[0;32m1\u001b[0m\n\u001b[0;31m    import cv2 img = []\u001b[0m\n\u001b[0m                 ^\u001b[0m\n\u001b[0;31mSyntaxError\u001b[0m\u001b[0;31m:\u001b[0m invalid syntax\n"
          ]
        }
      ]
    }
  ]
}
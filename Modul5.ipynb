{
  "nbformat": 4,
  "nbformat_minor": 0,
  "metadata": {
    "colab": {
      "name": "Modul5.ipynb",
      "provenance": [],
      "collapsed_sections": [],
      "authorship_tag": "ABX9TyPr1LHOZ8ODUDLwowzBSPly",
      "include_colab_link": true
    },
    "kernelspec": {
      "name": "python3",
      "display_name": "Python 3"
    }
  },
  "cells": [
    {
      "cell_type": "markdown",
      "metadata": {
        "id": "view-in-github",
        "colab_type": "text"
      },
      "source": [
        "<a href=\"https://colab.research.google.com/github/Nurfaidah636/PCVK_Genap_2021/blob/main/Modul5.ipynb\" target=\"_parent\"><img src=\"https://colab.research.google.com/assets/colab-badge.svg\" alt=\"Open In Colab\"/></a>"
      ]
    },
    {
      "cell_type": "code",
      "metadata": {
        "id": "31bSwvHA7QTU"
      },
      "source": [
        "print('Gamma Correction pada citra')\r\n",
        "print('----------------------------------')\r\n",
        "try:\r\n",
        "  gamma = int(input('Masukkan nilai Gamma: '))\r\n",
        "except ValueError:\r\n",
        "  print('Error, not a number')"
      ],
      "execution_count": null,
      "outputs": []
    }
  ]
}